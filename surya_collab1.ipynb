{
  "nbformat": 4,
  "nbformat_minor": 0,
  "metadata": {
    "colab": {
      "provenance": [],
      "authorship_tag": "ABX9TyOdUEXyu3VpAfm09jgrN5RA",
      "include_colab_link": true
    },
    "kernelspec": {
      "name": "python3",
      "display_name": "Python 3"
    },
    "language_info": {
      "name": "python"
    }
  },
  "cells": [
    {
      "cell_type": "markdown",
      "metadata": {
        "id": "view-in-github",
        "colab_type": "text"
      },
      "source": [
        "<a href=\"https://colab.research.google.com/github/suryadu/Catalog-api-CloudStore-1489434388289/blob/master/surya_collab1.ipynb\" target=\"_parent\"><img src=\"https://colab.research.google.com/assets/colab-badge.svg\" alt=\"Open In Colab\"/></a>"
      ]
    },
    {
      "cell_type": "code",
      "source": [],
      "metadata": {
        "id": "guXMMRaAdB6e"
      },
      "execution_count": null,
      "outputs": []
    },
    {
      "cell_type": "code",
      "execution_count": 1,
      "metadata": {
        "colab": {
          "base_uri": "https://localhost:8080/"
        },
        "id": "y3B4J6s4ctm5",
        "outputId": "8ab7f15e-a9f9-486c-cb5d-ee949c836657"
      },
      "outputs": [
        {
          "output_type": "execute_result",
          "data": {
            "text/plain": [
              "46000"
            ]
          },
          "metadata": {},
          "execution_count": 1
        }
      ],
      "source": [
        "# retirement income calculation at 65\n",
        "social_security = 6000\n",
        "dividend_income = 10000\n",
        "day_trading_income = 10000\n",
        "consulting_income = 10000\n",
        "asset_roi = 10000\n",
        "total_income = social_security + dividend_income + day_trading_income + consulting_income + asset_roi\n",
        "total_income\n"
      ]
    }
  ]
}